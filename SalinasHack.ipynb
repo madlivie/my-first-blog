{
  "nbformat": 4,
  "nbformat_minor": 0,
  "metadata": {
    "colab": {
      "name": "Taller_Telmex_hub.ipynb",
      "version": "0.3.2",
      "provenance": [],
      "collapsed_sections": [],
      "include_colab_link": true
    },
    "language_info": {
      "codemirror_mode": {
        "name": "ipython",
        "version": 3
      },
      "file_extension": ".py",
      "mimetype": "text/x-python",
      "name": "python",
      "nbconvert_exporter": "python",
      "pygments_lexer": "ipython3",
      "version": "3.5.2"
    },
    "kernelspec": {
      "display_name": "Python 3",
      "language": "python",
      "name": "python3"
    }
  },
  "cells": [
    {
      "cell_type": "markdown",
      "metadata": {
        "id": "view-in-github",
        "colab_type": "text"
      },
      "source": [
        "<a href=\"https://colab.research.google.com/github/madlivie/my-first-blog/blob/master/SalinasHack.ipynb\" target=\"_parent\"><img src=\"https://colab.research.google.com/assets/colab-badge.svg\" alt=\"Open In Colab\"/></a>"
      ]
    },
    {
      "cell_type": "markdown",
      "metadata": {
        "id": "rfDG1KAyF521",
        "colab_type": "text"
      },
      "source": [
        "# Analizando Datos de Twitter con Python"
      ]
    },
    {
      "cell_type": "markdown",
      "metadata": {
        "id": "UKjWW9eYyViP",
        "colab_type": "text"
      },
      "source": [
        "## ¿Qué aprenderé en este taller?\n",
        "### 1. Aprender qué es una API\n",
        "### 2. Aprender a utilizar la API de Twitter y la de un analizador de sentimiento\n",
        "### 3. Aprender suficiente Python para hacer cosas chidas"
      ]
    },
    {
      "cell_type": "markdown",
      "metadata": {
        "id": "Rmg8usMZyA0H",
        "colab_type": "text"
      },
      "source": [
        "\n",
        "## Pasos\n",
        "### 1. Crear una cuenta de desarrollador en [developer.twitter.com](developer.twitter.com) y esperar a que te validen\n",
        "### 2. Crear un app en [developer.twitter.com](developer.twitter.com)"
      ]
    },
    {
      "cell_type": "markdown",
      "metadata": {
        "id": "_EJPjNPq0xjC",
        "colab_type": "text"
      },
      "source": [
        "# ¿Qué es una API?\n",
        "## Application Programming Interface\n",
        "\n",
        "\n",
        "> Básicamente es una puerta abierta hacia algún recurso.  \n",
        "> Algunas plataformas utilizan API's para ofrecer servicios relacionados a su plataforma.  \n",
        "> Aquí pueden encontrar API's de casi cualquier cosa https://rapidapi.com/\n",
        "\n",
        "\n",
        "![alt text](https://www.flimper.com/hubfs/como-crear-una-api.jpg)"
      ]
    },
    {
      "cell_type": "markdown",
      "metadata": {
        "id": "wzNOrP0V3tyY",
        "colab_type": "text"
      },
      "source": [
        "# Tweepy\n",
        "---\n",
        "### Es una biblioteca de Python que facilita la comunicación con Twitter\n",
        "![alt text](https://s3.amazonaws.com/com.twilio.prod.twilio-docs/images/twitter-python-logos.width-808.jpg)"
      ]
    },
    {
      "cell_type": "code",
      "metadata": {
        "id": "Ym9pkR52wYJg",
        "colab_type": "code",
        "colab": {}
      },
      "source": [
        "import tweepy"
      ],
      "execution_count": 0,
      "outputs": []
    },
    {
      "cell_type": "markdown",
      "metadata": {
        "id": "CHNpE8Zg3oSE",
        "colab_type": "text"
      },
      "source": [
        "## Aquí autenticamos que somos los dueños de la aplicación."
      ]
    },
    {
      "cell_type": "code",
      "metadata": {
        "id": "YR4ELhuHwYJl",
        "colab_type": "code",
        "colab": {}
      },
      "source": [
        "####input your credentials here\n",
        "consumer_key = ''\n",
        "consumer_secret = ''\n",
        "access_token = ''\n",
        "access_token_secret = ''\n",
        "\n",
        "auth = tweepy.OAuthHandler(consumer_key, consumer_secret)\n",
        "auth.set_access_token(access_token, access_token_secret)\n",
        "api = tweepy.API(auth)"
      ],
      "execution_count": 0,
      "outputs": []
    },
    {
      "cell_type": "code",
      "metadata": {
        "id": "q7mgVYpWwYJn",
        "colab_type": "code",
        "colab": {}
      },
      "source": [
        "first_query = api.search(q=\"xbox\", count=100)\n",
        "second_query = api.search(q=\"ps4\", count=100)"
      ],
      "execution_count": 0,
      "outputs": []
    },
    {
      "cell_type": "code",
      "metadata": {
        "id": "O7-oTLQILSxC",
        "colab_type": "code",
        "outputId": "6fd6195a-e1ea-4c9c-e8ba-7c2e751fa433",
        "colab": {
          "base_uri": "https://localhost:8080/",
          "height": 34
        }
      },
      "source": [
        "first_query_length = len(first_query)\n",
        "second_query_length = len(second_query)\n",
        "print(first_query_length , second_query_length)"
      ],
      "execution_count": 0,
      "outputs": [
        {
          "output_type": "stream",
          "text": [
            "90 88\n"
          ],
          "name": "stdout"
        }
      ]
    },
    {
      "cell_type": "code",
      "metadata": {
        "id": "dScJzzifGx4C",
        "colab_type": "code",
        "colab": {}
      },
      "source": [
        "first_query"
      ],
      "execution_count": 0,
      "outputs": []
    },
    {
      "cell_type": "code",
      "metadata": {
        "id": "ozNdq0vpG8Hl",
        "colab_type": "code",
        "colab": {}
      },
      "source": [
        "second_query"
      ],
      "execution_count": 0,
      "outputs": []
    },
    {
      "cell_type": "code",
      "metadata": {
        "id": "IhpGLBXl9W5R",
        "colab_type": "code",
        "outputId": "44a55ff1-dc6c-4275-ebbf-dac12d5074d1",
        "colab": {
          "base_uri": "https://localhost:8080/",
          "height": 54
        }
      },
      "source": [
        "first_query[10].text"
      ],
      "execution_count": 0,
      "outputs": [
        {
          "output_type": "execute_result",
          "data": {
            "text/plain": [
              "'@SparckMc Sparckl,cambiando de tema cuánto le calculas en cuanto en precio de Gears 5 la ultímate edition,esque aho… https://t.co/TXFF87WPBv'"
            ]
          },
          "metadata": {
            "tags": []
          },
          "execution_count": 7
        }
      ]
    },
    {
      "cell_type": "code",
      "metadata": {
        "id": "cWl10scg9X7_",
        "colab_type": "code",
        "outputId": "8cd876de-f11c-4114-8810-edcd435d3a8d",
        "colab": {
          "base_uri": "https://localhost:8080/",
          "height": 54
        }
      },
      "source": [
        "first_query[14].user"
      ],
      "execution_count": 0,
      "outputs": [
        {
          "output_type": "execute_result",
          "data": {
            "text/plain": [
              "User(_api=<tweepy.api.API object at 0x7fd8de335c18>, _json={'id': 898339615899136001, 'id_str': '898339615899136001', 'name': 'Xbox_Sanmans', 'screen_name': 'Xbox_Sanmans', 'location': '165.3°E ~ 14.7°W', 'description': 'Former Microsoft+Avid+Softimage 3D+Unisys+Commvault+SCIF+DoD Federal Police Officer. Xbox Ambassador. Disaster Recov 4 Adobe Fujitsu Blizzard Game Film insider', 'url': 'https://t.co/bKAiMbDn2p', 'entities': {'url': {'urls': [{'url': 'https://t.co/bKAiMbDn2p', 'expanded_url': 'https://twitter.com/MS_InSider', 'display_url': 'twitter.com/MS_InSider', 'indices': [0, 23]}]}, 'description': {'urls': []}}, 'protected': False, 'followers_count': 151, 'friends_count': 406, 'listed_count': 1, 'created_at': 'Fri Aug 18 00:23:49 +0000 2017', 'favourites_count': 1321, 'utc_offset': None, 'time_zone': None, 'geo_enabled': False, 'verified': False, 'statuses_count': 1055, 'lang': 'en', 'contributors_enabled': False, 'is_translator': False, 'is_translation_enabled': False, 'profile_background_color': '000000', 'profile_background_image_url': 'http://abs.twimg.com/images/themes/theme1/bg.png', 'profile_background_image_url_https': 'https://abs.twimg.com/images/themes/theme1/bg.png', 'profile_background_tile': False, 'profile_image_url': 'http://pbs.twimg.com/profile_images/922937859232768000/S8QO1r2R_normal.jpg', 'profile_image_url_https': 'https://pbs.twimg.com/profile_images/922937859232768000/S8QO1r2R_normal.jpg', 'profile_banner_url': 'https://pbs.twimg.com/profile_banners/898339615899136001/1503016208', 'profile_link_color': '1B95E0', 'profile_sidebar_border_color': '000000', 'profile_sidebar_fill_color': '000000', 'profile_text_color': '000000', 'profile_use_background_image': False, 'has_extended_profile': False, 'default_profile': False, 'default_profile_image': False, 'following': False, 'follow_request_sent': False, 'notifications': False, 'translator_type': 'none'}, id=898339615899136001, id_str='898339615899136001', name='Xbox_Sanmans', screen_name='Xbox_Sanmans', location='165.3°E ~ 14.7°W', description='Former Microsoft+Avid+Softimage 3D+Unisys+Commvault+SCIF+DoD Federal Police Officer. Xbox Ambassador. Disaster Recov 4 Adobe Fujitsu Blizzard Game Film insider', url='https://t.co/bKAiMbDn2p', entities={'url': {'urls': [{'url': 'https://t.co/bKAiMbDn2p', 'expanded_url': 'https://twitter.com/MS_InSider', 'display_url': 'twitter.com/MS_InSider', 'indices': [0, 23]}]}, 'description': {'urls': []}}, protected=False, followers_count=151, friends_count=406, listed_count=1, created_at=datetime.datetime(2017, 8, 18, 0, 23, 49), favourites_count=1321, utc_offset=None, time_zone=None, geo_enabled=False, verified=False, statuses_count=1055, lang='en', contributors_enabled=False, is_translator=False, is_translation_enabled=False, profile_background_color='000000', profile_background_image_url='http://abs.twimg.com/images/themes/theme1/bg.png', profile_background_image_url_https='https://abs.twimg.com/images/themes/theme1/bg.png', profile_background_tile=False, profile_image_url='http://pbs.twimg.com/profile_images/922937859232768000/S8QO1r2R_normal.jpg', profile_image_url_https='https://pbs.twimg.com/profile_images/922937859232768000/S8QO1r2R_normal.jpg', profile_banner_url='https://pbs.twimg.com/profile_banners/898339615899136001/1503016208', profile_link_color='1B95E0', profile_sidebar_border_color='000000', profile_sidebar_fill_color='000000', profile_text_color='000000', profile_use_background_image=False, has_extended_profile=False, default_profile=False, default_profile_image=False, following=False, follow_request_sent=False, notifications=False, translator_type='none')"
            ]
          },
          "metadata": {
            "tags": []
          },
          "execution_count": 11
        }
      ]
    },
    {
      "cell_type": "code",
      "metadata": {
        "id": "VfL4P2eO9Zlw",
        "colab_type": "code",
        "outputId": "8965ea1b-711a-4869-c050-d0450f1a3fef",
        "colab": {
          "base_uri": "https://localhost:8080/",
          "height": 54
        }
      },
      "source": [
        "first_query[14].user.description"
      ],
      "execution_count": 0,
      "outputs": [
        {
          "output_type": "execute_result",
          "data": {
            "text/plain": [
              "'Former Microsoft+Avid+Softimage 3D+Unisys+Commvault+SCIF+DoD Federal Police Officer. Xbox Ambassador. Disaster Recov 4 Adobe Fujitsu Blizzard Game Film insider'"
            ]
          },
          "metadata": {
            "tags": []
          },
          "execution_count": 12
        }
      ]
    },
    {
      "cell_type": "markdown",
      "metadata": {
        "id": "oUq-MUN-2cwi",
        "colab_type": "text"
      },
      "source": [
        "\n",
        "\n",
        "# Estructura básica de Objeto Status\n",
        "\n",
        "\n",
        "```\n",
        "{\n",
        " \"created_at\":\"Thu Apr 06 15:24:15 +0000 2017\",\n",
        " \"id\": 850006245121695744,\n",
        " \"id_str\": \"850006245121695744\",\n",
        " \"text\": \"1/ Today we’re sharing our vision for the future of the Twitter API platform!nhttps://t.co/XweGngmxlP\",\n",
        " \"user\": {},  \n",
        " \"entities\": {}\n",
        "}\n",
        "```\n",
        "\n",
        "## Pueden encontrar más información en [este link](https://developer.twitter.com/en/docs/tweets/data-dictionary/overview/intro-to-tweet-json)\n",
        "\n",
        "\n",
        "\n"
      ]
    },
    {
      "cell_type": "markdown",
      "metadata": {
        "id": "6gMCy3ZD43Zw",
        "colab_type": "text"
      },
      "source": [
        "## Documentación de repustate [aquí](https://www.repustate.com/docs/#toc-auth)"
      ]
    },
    {
      "cell_type": "code",
      "metadata": {
        "id": "fxaCmmoX5bRg",
        "colab_type": "code",
        "outputId": "bc8ea47c-387e-4da4-f968-85cfe2f958b6",
        "colab": {
          "base_uri": "https://localhost:8080/",
          "height": 190
        }
      },
      "source": [
        "!pip install repustate"
      ],
      "execution_count": 0,
      "outputs": [
        {
          "output_type": "stream",
          "text": [
            "Collecting repustate\n",
            "  Downloading https://files.pythonhosted.org/packages/16/4b/27323d7f77cf5c06795231cf1c8e9cbf4f7fd45edddef527a21193c5b2e9/repustate-1.2.2-py2.py3-none-any.whl\n",
            "Requirement already satisfied: requests in /usr/local/lib/python3.6/dist-packages (from repustate) (2.21.0)\n",
            "Requirement already satisfied: chardet<3.1.0,>=3.0.2 in /usr/local/lib/python3.6/dist-packages (from requests->repustate) (3.0.4)\n",
            "Requirement already satisfied: idna<2.9,>=2.5 in /usr/local/lib/python3.6/dist-packages (from requests->repustate) (2.8)\n",
            "Requirement already satisfied: urllib3<1.25,>=1.21.1 in /usr/local/lib/python3.6/dist-packages (from requests->repustate) (1.24.3)\n",
            "Requirement already satisfied: certifi>=2017.4.17 in /usr/local/lib/python3.6/dist-packages (from requests->repustate) (2019.3.9)\n",
            "Installing collected packages: repustate\n",
            "Successfully installed repustate-1.2.2\n"
          ],
          "name": "stdout"
        }
      ]
    },
    {
      "cell_type": "markdown",
      "metadata": {
        "id": "Bxvhs0dp9GUe",
        "colab_type": "text"
      },
      "source": [
        "## Score es un valor de -1 a 1 en donde -1 es sentimiento negativo y 1 es sentimiento positivo"
      ]
    },
    {
      "cell_type": "code",
      "metadata": {
        "id": "vk41UnD243Ek",
        "colab_type": "code",
        "colab": {}
      },
      "source": [
        "from repustate import Client\n",
        "client = Client(api_key='', version='v4')"
      ],
      "execution_count": 0,
      "outputs": []
    },
    {
      "cell_type": "code",
      "metadata": {
        "id": "Gq6exjUdIupB",
        "colab_type": "code",
        "outputId": "2df74fb1-d6c7-420f-8c52-93136ed5a6be",
        "colab": {
          "base_uri": "https://localhost:8080/",
          "height": 34
        }
      },
      "source": [
        "client.sentiment(\"Es un pésimo día para correr\", lang='es')"
      ],
      "execution_count": 0,
      "outputs": [
        {
          "output_type": "execute_result",
          "data": {
            "text/plain": [
              "{'score': -0.9669632681220451, 'status': 'OK'}"
            ]
          },
          "metadata": {
            "tags": []
          },
          "execution_count": 10
        }
      ]
    },
    {
      "cell_type": "code",
      "metadata": {
        "id": "d32CYYP49QE3",
        "colab_type": "code",
        "colab": {}
      },
      "source": [
        "scores = []\n",
        "for tweet in first_query:\n",
        "  score = client.sentiment(tweet.text, lang='es')\n",
        "  scores.append(score)"
      ],
      "execution_count": 0,
      "outputs": []
    },
    {
      "cell_type": "code",
      "metadata": {
        "id": "jF9lZueC9yVL",
        "colab_type": "code",
        "colab": {}
      },
      "source": [
        "scores"
      ],
      "execution_count": 0,
      "outputs": []
    },
    {
      "cell_type": "code",
      "metadata": {
        "id": "KOZKqieJ_B6W",
        "colab_type": "code",
        "colab": {}
      },
      "source": [
        "scores_list = [score['score'] for score in scores]\n",
        "scores_list"
      ],
      "execution_count": 0,
      "outputs": []
    },
    {
      "cell_type": "code",
      "metadata": {
        "id": "si0CuD6b-RY4",
        "colab_type": "code",
        "colab": {}
      },
      "source": [
        "import seaborn as sns\n",
        "from numpy import array\n",
        "scores_array = array(scores_list)\n",
        "sns.set()\n",
        "ax = sns.distplot(scores_array)"
      ],
      "execution_count": 0,
      "outputs": []
    },
    {
      "cell_type": "code",
      "metadata": {
        "id": "yCyqEIYhRdOG",
        "colab_type": "code",
        "colab": {}
      },
      "source": [
        "# lang='es'"
      ],
      "execution_count": 0,
      "outputs": []
    },
    {
      "cell_type": "code",
      "metadata": {
        "id": "eCJuFIgm-bGG",
        "colab_type": "code",
        "outputId": "2447735c-a698-4b59-8102-b64195ef595f",
        "colab": {
          "base_uri": "https://localhost:8080/",
          "height": 274
        }
      },
      "source": [
        "new_scores_list = []\n",
        "for score in scores_list:\n",
        "  if score == 0:\n",
        "    pass\n",
        "  else:\n",
        "    new_scores_list.append(score)\n",
        "    \n",
        "scores_array = array(new_scores_list)\n",
        "sns.set()\n",
        "ax = sns.distplot(scores_array)"
      ],
      "execution_count": 0,
      "outputs": [
        {
          "output_type": "display_data",
          "data": {
            "image/png": "[encoded data removed]",
            "text/plain": [
              "<Figure size 432x288 with 1 Axes>"
            ]
          },
          "metadata": {
            "tags": []
          }
        }
      ]
    },
    {
      "cell_type": "code",
      "metadata": {
        "id": "bH_0965ZTvmU",
        "colab_type": "code",
        "outputId": "b04abd86-78de-46ac-f5e8-2bf333d4137e",
        "colab": {
          "base_uri": "https://localhost:8080/",
          "height": 34
        }
      },
      "source": [
        "import statistics as stats\n",
        "\n",
        "average_score = stats.mean(new_scores_list)\n",
        "\n",
        "print(average_score)"
      ],
      "execution_count": 0,
      "outputs": [
        {
          "output_type": "stream",
          "text": [
            "-0.013748539962315712\n"
          ],
          "name": "stdout"
        }
      ]
    },
    {
      "cell_type": "code",
      "metadata": {
        "id": "X1q-sWV8Rqew",
        "colab_type": "code",
        "colab": {}
      },
      "source": [
        "def show_tweet_stats(tweets):\n",
        "  scores = []\n",
        "  for tweet in tweets:\n",
        "    score = client.sentiment(tweet.text, lang='es')\n",
        "    scores.append(score)\n",
        "   \n",
        "  scores_list = [score['score'] for score in scores]\n",
        "  clean_scores_list = []\n",
        "  for score in scores_list:\n",
        "    if score == 0:\n",
        "      pass\n",
        "    else:\n",
        "      clean_scores_list.append(score)\n",
        "      \n",
        "  scores_array = array(clean_scores_list)\n",
        "  sns.set()\n",
        "  ax = sns.distplot(scores_array)\n",
        "  \n",
        "  average_score = stats.mean(clean_scores_list)\n",
        "  print(f'Average Score: {average_score}')"
      ],
      "execution_count": 0,
      "outputs": []
    },
    {
      "cell_type": "code",
      "metadata": {
        "id": "nSRLdLgZSogS",
        "colab_type": "code",
        "outputId": "97b04b83-7db6-40f3-ef6b-bec6dffb4878",
        "colab": {
          "base_uri": "https://localhost:8080/",
          "height": 325
        }
      },
      "source": [
        "first_query_string = input(\"Ingresa primer termino> \")\n",
        "second_query_string = input(\"Ingresa segundo termino> \")\n",
        "first_query = api.search(q=first_query_string, count=100, lang='es')\n",
        "second_query = api.search(q=second_query_string, count=100, lang='es')\n",
        "show_tweet_stats(first_query)"
      ],
      "execution_count": 0,
      "outputs": [
        {
          "output_type": "stream",
          "text": [
            "Ingresa primer termino> bedu\n",
            "Ingresa segundo termino> ironhack\n",
            "Average Score: 0.5199251852195266\n"
          ],
          "name": "stdout"
        },
        {
          "output_type": "display_data",
          "data": {
            "image/png": "[encoded data removed]",
            "text/plain": [
              "<Figure size 432x288 with 1 Axes>"
            ]
          },
          "metadata": {
            "tags": []
          }
        }
      ]
    },
    {
      "cell_type": "code",
      "metadata": {
        "id": "241wtblbVv_2",
        "colab_type": "code",
        "outputId": "9a1ea01d-775a-4eb9-995e-dfb2d27c5ae1",
        "colab": {
          "base_uri": "https://localhost:8080/",
          "height": 291
        }
      },
      "source": [
        "show_tweet_stats(second_query)"
      ],
      "execution_count": 0,
      "outputs": [
        {
          "output_type": "stream",
          "text": [
            "Average Score: 0.4931100495366555\n"
          ],
          "name": "stdout"
        },
        {
          "output_type": "display_data",
          "data": {
            "image/png": "[encoded data removed]",
            "text/plain": [
              "<Figure size 432x288 with 1 Axes>"
            ]
          },
          "metadata": {
            "tags": []
          }
        }
      ]
    }
  ]
}